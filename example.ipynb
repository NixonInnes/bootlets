{
 "cells": [
  {
   "cell_type": "markdown",
   "metadata": {},
   "source": [
    "# Bootlets\n",
    "Bootlets is a Python library that provides a set of template objects which render HTML code, so you never have to write any HTML again!  \n",
    "\n",
    "The templates can be subclassed and customised, or changed on the fly, to modify its' content or keyword arguments."
   ]
  },
  {
   "cell_type": "code",
   "execution_count": 1,
   "metadata": {},
   "outputs": [],
   "source": [
    "# Import some Notebook tools\n",
    "from IPython.display import display, HTML, IFrame\n",
    "\n",
    "# Define a function to display the HTML strings as HTML\n",
    "def print_html(html):\n",
    "    display(HTML(html))"
   ]
  },
  {
   "cell_type": "markdown",
   "metadata": {},
   "source": [
    "## Basic Use"
   ]
  },
  {
   "cell_type": "code",
   "execution_count": 2,
   "metadata": {},
   "outputs": [],
   "source": [
    "# Import the base template classes\n",
    "from bootlets.templates import *"
   ]
  },
  {
   "cell_type": "markdown",
   "metadata": {},
   "source": [
    "`bootlets.templates` contains classes for most (one day all) HTML tags (e.g. `Div()` for `<div>`)  \n",
    "\n",
    "By default when the template class is instanciated all `*args` are joined by a newline, and `**kwargs` are used as keywords for the HTML tag. The `draw()` method is used to return the generated HTML code. For example:"
   ]
  },
  {
   "cell_type": "code",
   "execution_count": 4,
   "metadata": {},
   "outputs": [
    {
     "data": {
      "text/plain": [
       "'<p class=\"bold\">This is come content\\nsome more content</p>'"
      ]
     },
     "execution_count": 4,
     "metadata": {},
     "output_type": "execute_result"
    }
   ],
   "source": [
    "P('This is come content', 'some more content', class_='bold').draw()"
   ]
  },
  {
   "cell_type": "markdown",
   "metadata": {},
   "source": [
    "The HTML objects can be nested within one another, like you would in the HTML code:"
   ]
  },
  {
   "cell_type": "code",
   "execution_count": 5,
   "metadata": {},
   "outputs": [],
   "source": [
    "html = Container(\n",
    "            H('Header 1', size=1),\n",
    "            P('paragraph'),\n",
    "            Div(P('seperate set of'), P('paragraphs', class_='bold')),\n",
    "            UlList(*['List', 'of', 'things']),\n",
    "            DlDict({'title': 'description', \n",
    "                             'another title': 'another description',\n",
    "                             'nested list': UlList(*['one', 'two'])\n",
    "                            })\n",
    "        )"
   ]
  },
  {
   "cell_type": "code",
   "execution_count": 6,
   "metadata": {},
   "outputs": [
    {
     "name": "stdout",
     "output_type": "stream",
     "text": [
      "<h1 size=\"1\">Header 1</h1>\n",
      "<p>paragraph</p>\n",
      "<div><p>seperate set of</p>\n",
      "<p class=\"bold\">paragraphs</p></div>\n",
      "<ul><li>List</li>\n",
      "<li>of</li>\n",
      "<li>things</li></ul>\n",
      "<dl><dt>title</dt><dd>description</dd>\n",
      "<dt>another title</dt><dd>another description</dd>\n",
      "<dt>nested list</dt><dd><ul><li>one</li>\n",
      "<li>two</li></ul></dd></dl>\n"
     ]
    }
   ],
   "source": [
    "# Print the HTML generated\n",
    "print(html.draw())"
   ]
  },
  {
   "cell_type": "code",
   "execution_count": 7,
   "metadata": {},
   "outputs": [
    {
     "data": {
      "text/html": [
       "<h1 size=\"1\">Header 1</h1>\n",
       "<p>paragraph</p>\n",
       "<div><p>seperate set of</p>\n",
       "<p class=\"bold\">paragraphs</p></div>\n",
       "<ul><li>List</li>\n",
       "<li>of</li>\n",
       "<li>things</li></ul>\n",
       "<dl><dt>title</dt><dd>description</dd>\n",
       "<dt>another title</dt><dd>another description</dd>\n",
       "<dt>nested list</dt><dd><ul><li>one</li>\n",
       "<li>two</li></ul></dd></dl>"
      ],
      "text/plain": [
       "<IPython.core.display.HTML object>"
      ]
     },
     "metadata": {},
     "output_type": "display_data"
    }
   ],
   "source": [
    "# Render the HTML in the Notebook\n",
    "print_html(html.draw())"
   ]
  },
  {
   "cell_type": "markdown",
   "metadata": {},
   "source": [
    "The HTML object `__repr__()` will return the entire object construction as a string:"
   ]
  },
  {
   "cell_type": "code",
   "execution_count": 8,
   "metadata": {},
   "outputs": [
    {
     "name": "stdout",
     "output_type": "stream",
     "text": [
      "Container(H('Header 1', size=1), P('paragraph'), Div(P('seperate set of'), P('paragraphs', class_='bold')), UlList('List', 'of', 'things'), DlDict({'title': 'description', 'another title': 'another description', 'nested list': UlList('one', 'two')}))\n"
     ]
    }
   ],
   "source": [
    "print(html)"
   ]
  },
  {
   "cell_type": "markdown",
   "metadata": {},
   "source": [
    "Allowing (but not advising) you to `exec` that string to build a replica HTML object:"
   ]
  },
  {
   "cell_type": "code",
   "execution_count": 9,
   "metadata": {},
   "outputs": [
    {
     "name": "stdout",
     "output_type": "stream",
     "text": [
      "<h1 size=\"1\">Header 1</h1>\n",
      "<p>paragraph</p>\n",
      "<div><p>seperate set of</p>\n",
      "<p class=\"bold\">paragraphs</p></div>\n",
      "<ul><li>List</li>\n",
      "<li>of</li>\n",
      "<li>things</li></ul>\n",
      "<dl><dt>title</dt><dd>description</dd>\n",
      "<dt>another title</dt><dd>another description</dd>\n",
      "<dt>nested list</dt><dd><ul><li>one</li>\n",
      "<li>two</li></ul></dd></dl>\n"
     ]
    }
   ],
   "source": [
    "exec_str = html.__repr__()\n",
    "exec('exec_rtn = '+exec_str)\n",
    "print(exec_rtn.draw())"
   ]
  },
  {
   "cell_type": "markdown",
   "metadata": {},
   "source": [
    "## Customisation"
   ]
  },
  {
   "cell_type": "markdown",
   "metadata": {},
   "source": [
    "### Subclassing\n",
    "\n",
    "The HTML template class offers several attributes to be overwritten to allow more detailed HTML tag definitions:\n",
    " - `Template.defaults` - default: `{}` - a dictionaty of default `kwargs`\n",
    " - `Template.funcs` - default: `[]` -  a list of strings, which represent names of methods  \n",
    " - `Template.tag` - default: `''` - a string of the HTML tag (e.g. 'div')  \n",
    " - `Template._block` - default: `'<{tag}{classes}>{content}</{tag}>'` - a string to construct the HTML. Tokens are replaced by:\n",
    "    - `kwargs`, generated by `Template.get_kwargs()`, returns combined dict of `defaults` and instanciated `**kwargs`, keys in `defaults` that start with `_` are skipped.\n",
    "    - the functions listed in `funcs`, \n",
    "    - `tag`\n",
    "    - `content`, generated by `Template.get_content()`, returns `\\n` join of `*args`, trying to `draw()` each `arg`   \n"
   ]
  },
  {
   "cell_type": "markdown",
   "metadata": {},
   "source": [
    "#### Examples"
   ]
  },
  {
   "cell_type": "code",
   "execution_count": 10,
   "metadata": {},
   "outputs": [
    {
     "data": {
      "text/plain": [
       "'<div class=\"styled\">some content</div>'"
      ]
     },
     "execution_count": 10,
     "metadata": {},
     "output_type": "execute_result"
    }
   ],
   "source": [
    "class StyledDiv(Div):\n",
    "    defaults = {'class_': 'styled'}\n",
    "    \n",
    "StyledDiv('some content').draw()"
   ]
  },
  {
   "cell_type": "code",
   "execution_count": 11,
   "metadata": {},
   "outputs": [
    {
     "data": {
      "text/plain": [
       "'<a href=\"#Users\">users</a>'"
      ]
     },
     "execution_count": 11,
     "metadata": {},
     "output_type": "execute_result"
    }
   ],
   "source": [
    "class UsersLink(A):\n",
    "    defaults = {'href': '#Users'}\n",
    "\n",
    "UsersLink('users').draw()"
   ]
  },
  {
   "cell_type": "code",
   "execution_count": 12,
   "metadata": {},
   "outputs": [
    {
     "data": {
      "text/plain": [
       "'<p>(1) 1\\n(2) 2\\n(3) 3</p>'"
      ]
     },
     "execution_count": 12,
     "metadata": {},
     "output_type": "execute_result"
    }
   ],
   "source": [
    "class AppendP(P):\n",
    "    funcs = ['do_append']\n",
    "    _block = '<{tag}>{do_append}</{tag}>'\n",
    "    \n",
    "    def do_append(self):\n",
    "        return '\\n'.join(f'({i+1}) '+ arg for i, arg in enumerate(self.args))\n",
    "\n",
    "AppendP('1', '2', '3').draw()"
   ]
  },
  {
   "cell_type": "markdown",
   "metadata": {},
   "source": [
    "### Calling Object"
   ]
  },
  {
   "cell_type": "markdown",
   "metadata": {},
   "source": [
    "Alternatively, you can instanciate a HTML template class then call the object with new `*args` and/or `**kwargs`.\n",
    "\n",
    "When you call an HTML template object passing `*args` or `**kwargs`, a new object of the parent class is instanciated; if no `*args` are pased in the call, the parent objects are used, and `**kwargs` of both the call and parent are used."
   ]
  },
  {
   "cell_type": "code",
   "execution_count": 13,
   "metadata": {},
   "outputs": [
    {
     "data": {
      "text/plain": [
       "'<p class=\"styleA\">original content</p>'"
      ]
     },
     "execution_count": 13,
     "metadata": {},
     "output_type": "execute_result"
    }
   ],
   "source": [
    "# Create parent HTML object\n",
    "p = P('original content', class_='styleA')\n",
    "p.draw()"
   ]
  },
  {
   "cell_type": "code",
   "execution_count": 14,
   "metadata": {},
   "outputs": [
    {
     "data": {
      "text/plain": [
       "'<p class=\"styleA\">new content</p>'"
      ]
     },
     "execution_count": 14,
     "metadata": {},
     "output_type": "execute_result"
    }
   ],
   "source": [
    "# Call with new *args (i.e. replace content)\n",
    "p('new content').draw()"
   ]
  },
  {
   "cell_type": "code",
   "execution_count": 15,
   "metadata": {},
   "outputs": [
    {
     "data": {
      "text/plain": [
       "'<p class=\"styleB\">original content</p>'"
      ]
     },
     "execution_count": 15,
     "metadata": {},
     "output_type": "execute_result"
    }
   ],
   "source": [
    "# Call with new **kwargs\n",
    "p(class_='styleB').draw()"
   ]
  },
  {
   "cell_type": "markdown",
   "metadata": {},
   "source": [
    "## Generic Class\n",
    "`bootlets.base` contains a `Generic` class which can be used to define generic HTML code. It functions similarly to the HTML template classes, other than the first argument passed on instanciation should be the HTML tag."
   ]
  },
  {
   "cell_type": "markdown",
   "metadata": {},
   "source": [
    "#### Example"
   ]
  },
  {
   "cell_type": "code",
   "execution_count": 16,
   "metadata": {},
   "outputs": [
    {
     "data": {
      "text/plain": [
       "'<new_tag class=\"NewTagStyle\">some content\\nmore content</new_tag>'"
      ]
     },
     "execution_count": 16,
     "metadata": {},
     "output_type": "execute_result"
    }
   ],
   "source": [
    "from bootlets.base import Generic\n",
    "\n",
    "Generic('new_tag', 'some content', 'more content', class_='NewTagStyle').draw()"
   ]
  },
  {
   "cell_type": "code",
   "execution_count": null,
   "metadata": {},
   "outputs": [],
   "source": []
  }
 ],
 "metadata": {
  "kernelspec": {
   "display_name": "Python 3",
   "language": "python",
   "name": "python3"
  },
  "language_info": {
   "codemirror_mode": {
    "name": "ipython",
    "version": 3
   },
   "file_extension": ".py",
   "mimetype": "text/x-python",
   "name": "python",
   "nbconvert_exporter": "python",
   "pygments_lexer": "ipython3",
   "version": "3.8.2"
  }
 },
 "nbformat": 4,
 "nbformat_minor": 4
}

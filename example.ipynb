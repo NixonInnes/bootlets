{
 "cells": [
  {
   "cell_type": "code",
   "execution_count": 1,
   "metadata": {},
   "outputs": [],
   "source": [
    "from IPython.display import display, HTML, IFrame"
   ]
  },
  {
   "cell_type": "code",
   "execution_count": 2,
   "metadata": {},
   "outputs": [],
   "source": [
    "from bootlets.templates import *"
   ]
  },
  {
   "cell_type": "code",
   "execution_count": 3,
   "metadata": {},
   "outputs": [],
   "source": [
    "def print_html(html):\n",
    "    display(HTML(html))"
   ]
  },
  {
   "cell_type": "markdown",
   "metadata": {},
   "source": [
    "`bootlets.templates` contains classes for most (one day all) HTML tags (e.g. `Div()` for `<div>`\n",
    "When by default when instanciated, `*args` are joined by a newline, and `**kwargs` are used as keywords for the HTML tag. For example `P('This is come content', class_='bold').draw()` returns `<p class=\"bold\">This is some content</p>` "
   ]
  },
  {
   "cell_type": "code",
   "execution_count": 4,
   "metadata": {},
   "outputs": [
    {
     "data": {
      "text/plain": [
       "'<p class=\"bold\">This is come content</p>'"
      ]
     },
     "execution_count": 4,
     "metadata": {},
     "output_type": "execute_result"
    }
   ],
   "source": [
    "P('This is come content', class_='bold').draw()"
   ]
  },
  {
   "cell_type": "markdown",
   "metadata": {},
   "source": [
    "The HTML objects can be nested within one another, like you would with the HTML:"
   ]
  },
  {
   "cell_type": "code",
   "execution_count": 5,
   "metadata": {},
   "outputs": [],
   "source": [
    "html = Container(\n",
    "            H('Header 1', size=1),\n",
    "            P('paragraph'),\n",
    "            Div(P('seperate set of'), P('paragraphs', class_='bold')),\n",
    "            UlList(*['List', 'of', 'things']),\n",
    "            DlDict({'title': 'description', \n",
    "                             'another title': 'another description',\n",
    "                             'nested list': UlList(*['one', 'two'])\n",
    "                            })\n",
    "        )"
   ]
  },
  {
   "cell_type": "code",
   "execution_count": 6,
   "metadata": {},
   "outputs": [
    {
     "name": "stdout",
     "output_type": "stream",
     "text": [
      "<h1>Header 1</h1>\n",
      "<p>paragraph</p>\n",
      "<div><p>seperate set of</p>\n",
      "<p class=\"bold\">paragraphs</p></div>\n",
      "<ul><li>List</li>\n",
      "<li>of</li>\n",
      "<li>things</li></ul>\n",
      "<dl class=\"row\"><dt class=\"col-sm-3\">title</dt><dd class=\"col-sm-9\">description</dd>\n",
      "<dt class=\"col-sm-3\">another title</dt><dd class=\"col-sm-9\">another description</dd>\n",
      "<dt class=\"col-sm-3\">nested list</dt><dd class=\"col-sm-9\"><ul><li>one</li>\n",
      "<li>two</li></ul></dd></dl>\n"
     ]
    }
   ],
   "source": [
    "print(html.draw())"
   ]
  },
  {
   "cell_type": "code",
   "execution_count": 7,
   "metadata": {},
   "outputs": [
    {
     "data": {
      "text/html": [
       "<h1>Header 1</h1>\n",
       "<p>paragraph</p>\n",
       "<div><p>seperate set of</p>\n",
       "<p class=\"bold\">paragraphs</p></div>\n",
       "<ul><li>List</li>\n",
       "<li>of</li>\n",
       "<li>things</li></ul>\n",
       "<dl class=\"row\"><dt class=\"col-sm-3\">title</dt><dd class=\"col-sm-9\">description</dd>\n",
       "<dt class=\"col-sm-3\">another title</dt><dd class=\"col-sm-9\">another description</dd>\n",
       "<dt class=\"col-sm-3\">nested list</dt><dd class=\"col-sm-9\"><ul><li>one</li>\n",
       "<li>two</li></ul></dd></dl>"
      ],
      "text/plain": [
       "<IPython.core.display.HTML object>"
      ]
     },
     "metadata": {},
     "output_type": "display_data"
    }
   ],
   "source": [
    "print_html(html.draw())"
   ]
  },
  {
   "cell_type": "markdown",
   "metadata": {},
   "source": [
    "The HTML object `__repr__()` will return the entire object construction"
   ]
  },
  {
   "cell_type": "code",
   "execution_count": 8,
   "metadata": {},
   "outputs": [
    {
     "name": "stdout",
     "output_type": "stream",
     "text": [
      "Container(H('Header 1', size=1), P('paragraph'), Div(P('seperate set of'), P('paragraphs', class_='bold')), UlList('List', 'of', 'things'), DlDict({'title': 'description', 'another title': 'another description', 'nested list': UlList('one', 'two')}))\n"
     ]
    }
   ],
   "source": [
    "print(html)"
   ]
  },
  {
   "cell_type": "code",
   "execution_count": 9,
   "metadata": {},
   "outputs": [
    {
     "name": "stdout",
     "output_type": "stream",
     "text": [
      "<h1>Header 1</h1>\n",
      "<p>paragraph</p>\n",
      "<div><p>seperate set of</p>\n",
      "<p class=\"bold\">paragraphs</p></div>\n",
      "<ul><li>List</li>\n",
      "<li>of</li>\n",
      "<li>things</li></ul>\n",
      "<dl class=\"row\"><dt class=\"col-sm-3\">title</dt><dd class=\"col-sm-9\">description</dd>\n",
      "<dt class=\"col-sm-3\">another title</dt><dd class=\"col-sm-9\">another description</dd>\n",
      "<dt class=\"col-sm-3\">nested list</dt><dd class=\"col-sm-9\"><ul><li>one</li>\n",
      "<li>two</li></ul></dd></dl>\n"
     ]
    }
   ],
   "source": [
    "exec_str = html.__repr__()\n",
    "exec('exec_rtn = '+exec_str)\n",
    "print(exec_rtn.draw())"
   ]
  },
  {
   "cell_type": "markdown",
   "metadata": {},
   "source": [
    "The classes can be subclasses, and defaults overwritten:"
   ]
  },
  {
   "cell_type": "code",
   "execution_count": 10,
   "metadata": {},
   "outputs": [],
   "source": [
    "class FancyDiv(Div):\n",
    "    defaults = {'class_': 'styled'}"
   ]
  },
  {
   "cell_type": "code",
   "execution_count": 11,
   "metadata": {},
   "outputs": [],
   "source": [
    "fd = FancyDiv(H('Header'), P('some content'))"
   ]
  },
  {
   "cell_type": "code",
   "execution_count": 12,
   "metadata": {},
   "outputs": [
    {
     "data": {
      "text/plain": [
       "'<div class=\"styled\"><h1>Header</h1>\\n<p>some content</p></div>'"
      ]
     },
     "execution_count": 12,
     "metadata": {},
     "output_type": "execute_result"
    }
   ],
   "source": [
    "fd.draw()"
   ]
  },
  {
   "cell_type": "markdown",
   "metadata": {},
   "source": [
    "Alternatively, you can instanciate the class then call the object return a new instance overwriting the content or kwargs."
   ]
  },
  {
   "cell_type": "code",
   "execution_count": 19,
   "metadata": {},
   "outputs": [],
   "source": [
    "p = P('original content', class_='styleA')"
   ]
  },
  {
   "cell_type": "code",
   "execution_count": 20,
   "metadata": {},
   "outputs": [
    {
     "data": {
      "text/plain": [
       "'<p class=\"styleA\">original content</p>'"
      ]
     },
     "execution_count": 20,
     "metadata": {},
     "output_type": "execute_result"
    }
   ],
   "source": [
    "p.draw()"
   ]
  },
  {
   "cell_type": "code",
   "execution_count": 21,
   "metadata": {},
   "outputs": [
    {
     "data": {
      "text/plain": [
       "'<p class=\"styleA\">new content</p>'"
      ]
     },
     "execution_count": 21,
     "metadata": {},
     "output_type": "execute_result"
    }
   ],
   "source": [
    "p('new content').draw()"
   ]
  },
  {
   "cell_type": "code",
   "execution_count": 22,
   "metadata": {},
   "outputs": [
    {
     "data": {
      "text/plain": [
       "'<p class=\"styleB\">more content</p>'"
      ]
     },
     "execution_count": 22,
     "metadata": {},
     "output_type": "execute_result"
    }
   ],
   "source": [
    "p('more content', class_='styleB').draw()"
   ]
  },
  {
   "cell_type": "code",
   "execution_count": 23,
   "metadata": {},
   "outputs": [
    {
     "data": {
      "text/plain": [
       "'<p class=\"styleC\">original content</p>'"
      ]
     },
     "execution_count": 23,
     "metadata": {},
     "output_type": "execute_result"
    }
   ],
   "source": [
    "p(class_='styleC').draw()"
   ]
  }
 ],
 "metadata": {
  "kernelspec": {
   "display_name": "Python 3",
   "language": "python",
   "name": "python3"
  },
  "language_info": {
   "codemirror_mode": {
    "name": "ipython",
    "version": 3
   },
   "file_extension": ".py",
   "mimetype": "text/x-python",
   "name": "python",
   "nbconvert_exporter": "python",
   "pygments_lexer": "ipython3",
   "version": "3.8.2"
  }
 },
 "nbformat": 4,
 "nbformat_minor": 4
}

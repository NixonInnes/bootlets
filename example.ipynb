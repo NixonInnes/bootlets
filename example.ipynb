{
 "cells": [
  {
   "cell_type": "markdown",
   "metadata": {},
   "source": [
    "# Bootlets\n",
    "Bootlets is a Python library that provides a set of template objects which render HTML code, so you never have to write any HTML again!  \n",
    "\n",
    "The `bootlets.html` module contains generic classes for most HTML tags, and `bootlets.boots` contains several classes to aid creating [Bootstrap](https://getbootstrap.com/) components.\n",
    "\n",
    "The templates can be subclassed and customised, or changed on the fly, to modify its' content or keyword arguments."
   ]
  },
  {
   "cell_type": "code",
   "execution_count": 1,
   "metadata": {},
   "outputs": [],
   "source": [
    "# Import some Notebook tools\n",
    "from IPython.display import display, HTML, IFrame\n",
    "\n",
    "# Define a function to display the HTML strings as HTML\n",
    "def print_html(html):\n",
    "    display(HTML(html))"
   ]
  },
  {
   "cell_type": "markdown",
   "metadata": {},
   "source": [
    "## HTML"
   ]
  },
  {
   "cell_type": "code",
   "execution_count": 2,
   "metadata": {},
   "outputs": [],
   "source": [
    "# Import the base template classes\n",
    "from bootlets.html import *\n",
    "from bootlets.boots import Container"
   ]
  },
  {
   "cell_type": "markdown",
   "metadata": {},
   "source": [
    "`bootlets.html` contains classes for most (one day all) HTML tags (e.g. `Div()` for `<div>`)  \n",
    "`bootlets.boots` contains more complex classes, including a `Container` to wrap several html, or other boots\n",
    "\n",
    "By default when the template class is instanciated all `*args` are joined by a newline, and `**kwargs` are used as keywords for the HTML tag. The `draw()` method is used to return the generated HTML code. For example:"
   ]
  },
  {
   "cell_type": "code",
   "execution_count": 3,
   "metadata": {},
   "outputs": [
    {
     "data": {
      "text/plain": [
       "'<p class=\"bold\">This is come content\\nsome more content</p>'"
      ]
     },
     "execution_count": 3,
     "metadata": {},
     "output_type": "execute_result"
    }
   ],
   "source": [
    "P('This is come content', 'some more content', class_='bold').draw()"
   ]
  },
  {
   "cell_type": "markdown",
   "metadata": {},
   "source": [
    "The HTML objects can be nested within one another, like you would in the HTML code:"
   ]
  },
  {
   "cell_type": "code",
   "execution_count": 4,
   "metadata": {},
   "outputs": [],
   "source": [
    "class Container_(Container):\n",
    "    def __repr__(self) -> str:\n",
    "        s = self.__class__.__qualname__ + \"(\"\n",
    "        if self.args:\n",
    "            s += \", \".join([arg.__repr__() for arg in self.args])\n",
    "        if self.kwargs:\n",
    "            if self.args:\n",
    "                s += \", \"\n",
    "            s += \", \".join([f\"{k}={v.__repr__()}\" for k, v in self._kwargs.items()])\n",
    "        s += \")\"\n",
    "        return s"
   ]
  },
  {
   "cell_type": "code",
   "execution_count": 5,
   "metadata": {},
   "outputs": [],
   "source": [
    "html = Container_(\n",
    "            H('Header 1', size=1),\n",
    "            P('paragraph'),\n",
    "            Div(P('seperate set of'), P('paragraphs', class_='bold')),\n",
    "            UlList(*['List', 'of', 'things']),\n",
    "            DlDict({'title': 'description', \n",
    "                             'another title': 'another description',\n",
    "                             'nested list': UlList(*['one', 'two'])\n",
    "                            })\n",
    "        )"
   ]
  },
  {
   "cell_type": "code",
   "execution_count": 6,
   "metadata": {},
   "outputs": [
    {
     "name": "stdout",
     "output_type": "stream",
     "text": [
      "<h1 size=\"1\">Header 1</h1>\n",
      "<p>paragraph</p>\n",
      "<div><p>seperate set of</p>\n",
      "<p class=\"bold\">paragraphs</p></div>\n",
      "<ul><li>List</li>\n",
      "<li>of</li>\n",
      "<li>things</li></ul>\n",
      "<dl><dt>title</dt><dd>description</dd>\n",
      "<dt>another title</dt><dd>another description</dd>\n",
      "<dt>nested list</dt><dd><ul><li>one</li>\n",
      "<li>two</li></ul></dd></dl>\n"
     ]
    }
   ],
   "source": [
    "# Print the HTML generated\n",
    "print(html.draw())"
   ]
  },
  {
   "cell_type": "code",
   "execution_count": 7,
   "metadata": {},
   "outputs": [
    {
     "data": {
      "text/html": [
       "<h1 size=\"1\">Header 1</h1>\n",
       "<p>paragraph</p>\n",
       "<div><p>seperate set of</p>\n",
       "<p class=\"bold\">paragraphs</p></div>\n",
       "<ul><li>List</li>\n",
       "<li>of</li>\n",
       "<li>things</li></ul>\n",
       "<dl><dt>title</dt><dd>description</dd>\n",
       "<dt>another title</dt><dd>another description</dd>\n",
       "<dt>nested list</dt><dd><ul><li>one</li>\n",
       "<li>two</li></ul></dd></dl>"
      ],
      "text/plain": [
       "<IPython.core.display.HTML object>"
      ]
     },
     "metadata": {},
     "output_type": "display_data"
    }
   ],
   "source": [
    "# Render the HTML in the Notebook\n",
    "print_html(html.draw())"
   ]
  },
  {
   "cell_type": "markdown",
   "metadata": {},
   "source": [
    "The HTML object `__repr__()` will return the entire object construction as a string:"
   ]
  },
  {
   "cell_type": "code",
   "execution_count": 8,
   "metadata": {},
   "outputs": [
    {
     "name": "stdout",
     "output_type": "stream",
     "text": [
      "Container_(H('Header 1', size=1), P('paragraph'), Div(P('seperate set of'), P('paragraphs', class_='bold')), UlList('List', 'of', 'things'), DlDict({'title': 'description', 'another title': 'another description', 'nested list': UlList('one', 'two')}))\n"
     ]
    }
   ],
   "source": [
    "print(html)"
   ]
  },
  {
   "cell_type": "markdown",
   "metadata": {},
   "source": [
    "Allowing (but not advising) you to `exec` that string to build a replica HTML object:"
   ]
  },
  {
   "cell_type": "code",
   "execution_count": 9,
   "metadata": {},
   "outputs": [
    {
     "name": "stdout",
     "output_type": "stream",
     "text": [
      "<h1 size=\"1\">Header 1</h1>\n",
      "<p>paragraph</p>\n",
      "<div><p>seperate set of</p>\n",
      "<p class=\"bold\">paragraphs</p></div>\n",
      "<ul><li>List</li>\n",
      "<li>of</li>\n",
      "<li>things</li></ul>\n",
      "<dl><dt>title</dt><dd>description</dd>\n",
      "<dt>another title</dt><dd>another description</dd>\n",
      "<dt>nested list</dt><dd><ul><li>one</li>\n",
      "<li>two</li></ul></dd></dl>\n"
     ]
    }
   ],
   "source": [
    "exec_str = html.__repr__()\n",
    "exec('exec_rtn = '+exec_str)\n",
    "print(exec_rtn.draw())"
   ]
  },
  {
   "cell_type": "markdown",
   "metadata": {},
   "source": [
    "## Customisation"
   ]
  },
  {
   "cell_type": "markdown",
   "metadata": {},
   "source": [
    "### Subclassing\n",
    "\n",
    "The HTML base class (`bootlets.html_base.Base`), which each `bootlets.html` class is subclassed from, offers several attributes to be overwritten to allow more detailed HTML tag definitions:\n",
    " - `Base.defaults` - default: `{}` - a dictionaty of default `kwargs`\n",
    " - `Base.funcs` - default: `[]` -  a list of strings, which represent names of methods  \n",
    " - `Base._tag` - default: `''` - a string of the HTML tag (e.g. 'div')  \n",
    " - `Base._block` - default: `'<{tag}{classes}>{content}</{tag}>'` - a string to construct the HTML. Tokens are replaced by:\n",
    "    - `kwargs`, generated by `Template.get_kwargs()`, returns combined dict of `defaults` and instanciated `**kwargs`, keys in `defaults` that start with `_` are skipped.\n",
    "    - the functions listed in `funcs`, \n",
    "    - `tag`\n",
    "    - `content`, generated by `Template.get_content()`, returns `\\n` join of `*args`, trying to `draw()` each `arg`   \n"
   ]
  },
  {
   "cell_type": "markdown",
   "metadata": {},
   "source": [
    "#### Examples"
   ]
  },
  {
   "cell_type": "code",
   "execution_count": 10,
   "metadata": {},
   "outputs": [
    {
     "data": {
      "text/plain": [
       "'<div class=\"styled\">some content</div>'"
      ]
     },
     "execution_count": 10,
     "metadata": {},
     "output_type": "execute_result"
    }
   ],
   "source": [
    "class StyledDiv(Div):\n",
    "    defaults = {'class_': 'styled'}\n",
    "    \n",
    "StyledDiv('some content').draw()"
   ]
  },
  {
   "cell_type": "code",
   "execution_count": 11,
   "metadata": {},
   "outputs": [
    {
     "data": {
      "text/plain": [
       "'<a href=\"#Users\">users</a>'"
      ]
     },
     "execution_count": 11,
     "metadata": {},
     "output_type": "execute_result"
    }
   ],
   "source": [
    "class UsersLink(A):\n",
    "    defaults = {'href': '#Users'}\n",
    "\n",
    "UsersLink('users').draw()"
   ]
  },
  {
   "cell_type": "code",
   "execution_count": 12,
   "metadata": {},
   "outputs": [
    {
     "data": {
      "text/plain": [
       "'<p>(1) 1\\n(2) 2\\n(3) 3</p>'"
      ]
     },
     "execution_count": 12,
     "metadata": {},
     "output_type": "execute_result"
    }
   ],
   "source": [
    "class AppendP(P):\n",
    "    funcs = ['do_append']\n",
    "    _block = '<{tag}>{do_append}</{tag}>'\n",
    "    \n",
    "    def do_append(self):\n",
    "        return '\\n'.join(f'({i+1}) '+ arg for i, arg in enumerate(self.args))\n",
    "\n",
    "AppendP('1', '2', '3').draw()"
   ]
  },
  {
   "cell_type": "markdown",
   "metadata": {},
   "source": [
    "### Calling Object"
   ]
  },
  {
   "cell_type": "markdown",
   "metadata": {},
   "source": [
    "Alternatively, you can instanciate a `bootlets.html` class then call the object with new `*args` and/or `**kwargs`.\n",
    "\n",
    "When you call a `bootlets.html` object passing `*args` or `**kwargs`, a new object of the parent class is instanciated, updating any new parameters. Passing any `*args` replace any `*args` of the original object. Passing new `**kwargs` update the dictionary of the original object."
   ]
  },
  {
   "cell_type": "code",
   "execution_count": 13,
   "metadata": {},
   "outputs": [
    {
     "data": {
      "text/plain": [
       "'<p class=\"styleA\">original content</p>'"
      ]
     },
     "execution_count": 13,
     "metadata": {},
     "output_type": "execute_result"
    }
   ],
   "source": [
    "# Create parent HTML object\n",
    "p = P('original content', class_='styleA')\n",
    "p.draw()"
   ]
  },
  {
   "cell_type": "code",
   "execution_count": 14,
   "metadata": {},
   "outputs": [
    {
     "data": {
      "text/plain": [
       "'<p class=\"styleA\">new content</p>'"
      ]
     },
     "execution_count": 14,
     "metadata": {},
     "output_type": "execute_result"
    }
   ],
   "source": [
    "# Call with new *args (i.e. replace content)\n",
    "p('new content').draw()"
   ]
  },
  {
   "cell_type": "code",
   "execution_count": 15,
   "metadata": {},
   "outputs": [
    {
     "data": {
      "text/plain": [
       "'<p class=\"styleB\">original content</p>'"
      ]
     },
     "execution_count": 15,
     "metadata": {},
     "output_type": "execute_result"
    }
   ],
   "source": [
    "# Call with new **kwargs\n",
    "p(class_='styleB').draw()"
   ]
  },
  {
   "cell_type": "markdown",
   "metadata": {},
   "source": [
    "## Boots"
   ]
  },
  {
   "cell_type": "markdown",
   "metadata": {},
   "source": [
    "`bootlets.boots`, excluding the utility `Container` class, are typically helper classes to draw [Bootstrap](https://getbootstrap.com/) components"
   ]
  },
  {
   "cell_type": "code",
   "execution_count": 16,
   "metadata": {},
   "outputs": [],
   "source": [
    "from bootlets.boots import *"
   ]
  },
  {
   "cell_type": "code",
   "execution_count": 17,
   "metadata": {},
   "outputs": [
    {
     "data": {
      "text/plain": [
       "'<span class=\"badge badge-primary\">example</span>'"
      ]
     },
     "execution_count": 17,
     "metadata": {},
     "output_type": "execute_result"
    }
   ],
   "source": [
    "# https://getbootstrap.com/docs/5.1/components/badge/\n",
    "Badge(\"example\").draw()"
   ]
  },
  {
   "cell_type": "code",
   "execution_count": 18,
   "metadata": {},
   "outputs": [
    {
     "data": {
      "text/plain": [
       "'<nav aria-label=\"breadcrumb\"><ol class=\"breadcrumb\"><li class=\"breadcrumb-item\"><li class=\"breadcrumb-item\">item 1</li></li>\\n<li class=\"breadcrumb-item\"><li class=\"breadcrumb-item\">item 2</li></li>\\n<li aria-current=\"page\" class=\"breadcrumb-item active\"><li class=\"breadcrumb-item\">item 3</li></li></ol></nav>'"
      ]
     },
     "execution_count": 18,
     "metadata": {},
     "output_type": "execute_result"
    }
   ],
   "source": [
    "# https://getbootstrap.com/docs/5.1/components/breadcrumb/\n",
    "Breadcrumb(\n",
    "    BreadcrumbItem(\"item 1\"),\n",
    "    BreadcrumbItem(\"item 2\"),\n",
    "    BreadcrumbItem(\"item 3\")\n",
    ").draw()"
   ]
  },
  {
   "cell_type": "code",
   "execution_count": 19,
   "metadata": {},
   "outputs": [
    {
     "data": {
      "text/plain": [
       "'<div class=\"card mb-3\"><h4 class=\"card-header\">Card Header</h4>\\n<div class=\"card-body\">This is some bootstrap card body content!</div>\\n<div class=\"card-footer\">Card footer</div></div>'"
      ]
     },
     "execution_count": 19,
     "metadata": {},
     "output_type": "execute_result"
    }
   ],
   "source": [
    "# https://getbootstrap.com/docs/5.1/components/card/\n",
    "Card(\n",
    "    CardHeader(\"Card Header\"),\n",
    "    CardBody(\"This is some bootstrap card body content!\"),\n",
    "    CardFooter(\"Card footer\")\n",
    ").draw()"
   ]
  },
  {
   "cell_type": "code",
   "execution_count": null,
   "metadata": {},
   "outputs": [],
   "source": []
  }
 ],
 "metadata": {
  "kernelspec": {
   "display_name": "Python 3 (ipykernel)",
   "language": "python",
   "name": "python3"
  },
  "language_info": {
   "codemirror_mode": {
    "name": "ipython",
    "version": 3
   },
   "file_extension": ".py",
   "mimetype": "text/x-python",
   "name": "python",
   "nbconvert_exporter": "python",
   "pygments_lexer": "ipython3",
   "version": "3.8.10"
  }
 },
 "nbformat": 4,
 "nbformat_minor": 4
}

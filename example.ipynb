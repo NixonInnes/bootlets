{
 "cells": [
  {
   "cell_type": "code",
   "execution_count": 1,
   "metadata": {},
   "outputs": [],
   "source": [
    "from IPython.display import display, HTML, IFrame"
   ]
  },
  {
   "cell_type": "code",
   "execution_count": 2,
   "metadata": {},
   "outputs": [],
   "source": [
    "from bootlets.templates import *"
   ]
  },
  {
   "cell_type": "code",
   "execution_count": 3,
   "metadata": {},
   "outputs": [
    {
     "data": {
      "text/html": [
       "<h1>Hello, World!</h1>"
      ],
      "text/plain": [
       "<IPython.core.display.HTML object>"
      ]
     },
     "metadata": {},
     "output_type": "display_data"
    }
   ],
   "source": [
    "display(HTML(Header('Hello, World!').draw()))"
   ]
  },
  {
   "cell_type": "code",
   "execution_count": 15,
   "metadata": {},
   "outputs": [
    {
     "data": {
      "text/html": [
       "<h1>Header 1</h1>\n",
       "<p>paragraph</p>\n",
       "<div><p>seperate set of</p>\n",
       "<p class=\"bold\">paragraphs</p></div>\n",
       "<ul><li>List</li>\n",
       "<li>of</li>\n",
       "<li>things</li></ul>\n",
       "<dl><dt>title</dt><dd>description</dd>\n",
       "<dt>another title</dt><dd>another description</dd>\n",
       "<dt>nested list</dt><dd><ul><li>one</li>\n",
       "<li>two</li></ul></dd></dl>"
      ],
      "text/plain": [
       "<IPython.core.display.HTML object>"
      ]
     },
     "metadata": {},
     "output_type": "display_data"
    }
   ],
   "source": [
    "html = Container(\n",
    "            Header('Header 1', size=1),\n",
    "            P('paragraph'),\n",
    "            Div(P('seperate set of'), P('paragraphs', class_='bold')),\n",
    "            UnorderedList(*['List', 'of', 'things']),\n",
    "            DescriptionList({'title': 'description', \n",
    "                             'another title': 'another description',\n",
    "                             'nested list': UnorderedList(*['one', 'two'])\n",
    "                            })\n",
    "        )\n",
    "\n",
    "display(HTML(\n",
    "    html.draw()\n",
    "))"
   ]
  },
  {
   "cell_type": "code",
   "execution_count": 16,
   "metadata": {},
   "outputs": [
    {
     "data": {
      "text/plain": [
       "Container(Header('Header 1', size=1), Paragraph('paragraph'), Div(Paragraph('seperate set of'), Paragraph('paragraphs', class_='bold')), UnorderedList('List', 'of', 'things'), DescriptionList({'title': 'description', 'another title': 'another description', 'nested list': UnorderedList('one', 'two')}))"
      ]
     },
     "execution_count": 16,
     "metadata": {},
     "output_type": "execute_result"
    }
   ],
   "source": [
    "html"
   ]
  },
  {
   "cell_type": "code",
   "execution_count": 17,
   "metadata": {},
   "outputs": [
    {
     "name": "stdout",
     "output_type": "stream",
     "text": [
      "<h1>Header 1</h1>\n",
      "<p>paragraph</p>\n",
      "<div><p>seperate set of</p>\n",
      "<p class=\"bold\">paragraphs</p></div>\n",
      "<ul><li>List</li>\n",
      "<li>of</li>\n",
      "<li>things</li></ul>\n",
      "<dl><dt>title</dt><dd>description</dd>\n",
      "<dt>another title</dt><dd>another description</dd>\n",
      "<dt>nested list</dt><dd><ul><li>one</li>\n",
      "<li>two</li></ul></dd></dl>\n"
     ]
    }
   ],
   "source": [
    "print(html.draw())"
   ]
  },
  {
   "cell_type": "code",
   "execution_count": null,
   "metadata": {},
   "outputs": [],
   "source": []
  }
 ],
 "metadata": {
  "kernelspec": {
   "display_name": "Python 3",
   "language": "python",
   "name": "python3"
  },
  "language_info": {
   "codemirror_mode": {
    "name": "ipython",
    "version": 3
   },
   "file_extension": ".py",
   "mimetype": "text/x-python",
   "name": "python",
   "nbconvert_exporter": "python",
   "pygments_lexer": "ipython3",
   "version": "3.8.2"
  }
 },
 "nbformat": 4,
 "nbformat_minor": 4
}
